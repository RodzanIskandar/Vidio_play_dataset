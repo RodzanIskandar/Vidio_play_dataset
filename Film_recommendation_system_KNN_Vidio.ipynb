{
 "cells": [
  {
   "cell_type": "markdown",
   "id": "eb5fede0",
   "metadata": {},
   "source": [
    "# Overview"
   ]
  },
  {
   "cell_type": "markdown",
   "id": "d6034a65",
   "metadata": {},
   "source": [
    "#### In this notebook, I build recommendation system for Vidio.com user premium. The dataset are Vidio.com play dataset from 1 februrary to 16 february 2020. I am using colaborative filtering to build recommendation system, which is recommendation based on activities and preferences of other users similar to us. I am using K-nearest neighbors with cosine_similarity as metric."
   ]
  },
  {
   "cell_type": "code",
   "execution_count": 169,
   "id": "84c9f5d6",
   "metadata": {},
   "outputs": [],
   "source": [
    "import pandas as pd\n",
    "import numpy as np"
   ]
  },
  {
   "cell_type": "markdown",
   "id": "edde2ec8",
   "metadata": {},
   "source": [
    "# Read the File"
   ]
  },
  {
   "cell_type": "code",
   "execution_count": 151,
   "id": "b3f1d998",
   "metadata": {},
   "outputs": [],
   "source": [
    "df = pd.read_csv('20% Vidio stream cleaned.csv')"
   ]
  },
  {
   "cell_type": "markdown",
   "id": "ba91d553",
   "metadata": {},
   "source": [
    "# Feature Engineering"
   ]
  },
  {
   "cell_type": "markdown",
   "id": "32f85360",
   "metadata": {},
   "source": [
    "### Filter data with only premium user and completed play"
   ]
  },
  {
   "cell_type": "code",
   "execution_count": 152,
   "id": "8e5c1d7a",
   "metadata": {},
   "outputs": [],
   "source": [
    "df = df[(df['is_premium'] == True)]"
   ]
  },
  {
   "cell_type": "code",
   "execution_count": 153,
   "id": "b7135ae0",
   "metadata": {},
   "outputs": [],
   "source": [
    "df['completed'] = df['completed'].replace(True, 1).replace(False, 0)"
   ]
  },
  {
   "cell_type": "code",
   "execution_count": 157,
   "id": "caed9fd5",
   "metadata": {},
   "outputs": [],
   "source": [
    "df= df[df['completed'] == 1]"
   ]
  },
  {
   "cell_type": "markdown",
   "id": "4dddb29a",
   "metadata": {},
   "source": [
    "### Pick the user id, film (items) and completed feature to do a collaborative Filtering recommendation engine"
   ]
  },
  {
   "cell_type": "code",
   "execution_count": 158,
   "id": "30c1651d",
   "metadata": {},
   "outputs": [],
   "source": [
    "columns = ['hash_watcher_id', 'film_title', 'completed']\n",
    "user_and_film = df[columns]"
   ]
  },
  {
   "cell_type": "markdown",
   "id": "bf00bbac",
   "metadata": {},
   "source": [
    "### make new columns total plays for each unique film_title"
   ]
  },
  {
   "cell_type": "code",
   "execution_count": 159,
   "id": "08d3700c",
   "metadata": {},
   "outputs": [
    {
     "data": {
      "text/html": [
       "<div>\n",
       "<style scoped>\n",
       "    .dataframe tbody tr th:only-of-type {\n",
       "        vertical-align: middle;\n",
       "    }\n",
       "\n",
       "    .dataframe tbody tr th {\n",
       "        vertical-align: top;\n",
       "    }\n",
       "\n",
       "    .dataframe thead th {\n",
       "        text-align: right;\n",
       "    }\n",
       "</style>\n",
       "<table border=\"1\" class=\"dataframe\">\n",
       "  <thead>\n",
       "    <tr style=\"text-align: right;\">\n",
       "      <th></th>\n",
       "      <th>film_title</th>\n",
       "      <th>total_plays</th>\n",
       "    </tr>\n",
       "  </thead>\n",
       "  <tbody>\n",
       "    <tr>\n",
       "      <th>94</th>\n",
       "      <td>I Love You Baby</td>\n",
       "      <td>857</td>\n",
       "    </tr>\n",
       "    <tr>\n",
       "      <th>79</th>\n",
       "      <td>HEART</td>\n",
       "      <td>127</td>\n",
       "    </tr>\n",
       "    <tr>\n",
       "      <th>105</th>\n",
       "      <td>Legend of the Blue Sea</td>\n",
       "      <td>78</td>\n",
       "    </tr>\n",
       "    <tr>\n",
       "      <th>259</th>\n",
       "      <td>Weightlifting Fairy Kim Bok-joo</td>\n",
       "      <td>76</td>\n",
       "    </tr>\n",
       "    <tr>\n",
       "      <th>57</th>\n",
       "      <td>Dr. Romantic</td>\n",
       "      <td>66</td>\n",
       "    </tr>\n",
       "    <tr>\n",
       "      <th>...</th>\n",
       "      <td>...</td>\n",
       "      <td>...</td>\n",
       "    </tr>\n",
       "    <tr>\n",
       "      <th>191</th>\n",
       "      <td>Single Lady</td>\n",
       "      <td>1</td>\n",
       "    </tr>\n",
       "    <tr>\n",
       "      <th>190</th>\n",
       "      <td>Si Jago Merah</td>\n",
       "      <td>1</td>\n",
       "    </tr>\n",
       "    <tr>\n",
       "      <th>49</th>\n",
       "      <td>Da Vinci - Animalogic</td>\n",
       "      <td>1</td>\n",
       "    </tr>\n",
       "    <tr>\n",
       "      <th>186</th>\n",
       "      <td>Shaadi Mein Zaroor Aana</td>\n",
       "      <td>1</td>\n",
       "    </tr>\n",
       "    <tr>\n",
       "      <th>93</th>\n",
       "      <td>I Know What You Did on Facebook</td>\n",
       "      <td>1</td>\n",
       "    </tr>\n",
       "  </tbody>\n",
       "</table>\n",
       "<p>265 rows × 2 columns</p>\n",
       "</div>"
      ],
      "text/plain": [
       "                          film_title  total_plays\n",
       "94                   I Love You Baby          857\n",
       "79                             HEART          127\n",
       "105           Legend of the Blue Sea           78\n",
       "259  Weightlifting Fairy Kim Bok-joo           76\n",
       "57                      Dr. Romantic           66\n",
       "..                               ...          ...\n",
       "191                      Single Lady            1\n",
       "190                    Si Jago Merah            1\n",
       "49             Da Vinci - Animalogic            1\n",
       "186          Shaadi Mein Zaroor Aana            1\n",
       "93   I Know What You Did on Facebook            1\n",
       "\n",
       "[265 rows x 2 columns]"
      ]
     },
     "execution_count": 159,
     "metadata": {},
     "output_type": "execute_result"
    }
   ],
   "source": [
    "total_plays = user_and_film.groupby(['film_title']).size().reset_index(name = 'total_plays').sort_values(by = 'total_plays', ascending=False)\n",
    "total_plays"
   ]
  },
  {
   "cell_type": "code",
   "execution_count": 160,
   "id": "b5912648",
   "metadata": {},
   "outputs": [
    {
     "data": {
      "text/html": [
       "<div>\n",
       "<style scoped>\n",
       "    .dataframe tbody tr th:only-of-type {\n",
       "        vertical-align: middle;\n",
       "    }\n",
       "\n",
       "    .dataframe tbody tr th {\n",
       "        vertical-align: top;\n",
       "    }\n",
       "\n",
       "    .dataframe thead th {\n",
       "        text-align: right;\n",
       "    }\n",
       "</style>\n",
       "<table border=\"1\" class=\"dataframe\">\n",
       "  <thead>\n",
       "    <tr style=\"text-align: right;\">\n",
       "      <th></th>\n",
       "      <th>hash_watcher_id</th>\n",
       "      <th>film_title</th>\n",
       "      <th>completed</th>\n",
       "      <th>total_plays</th>\n",
       "    </tr>\n",
       "  </thead>\n",
       "  <tbody>\n",
       "    <tr>\n",
       "      <th>782</th>\n",
       "      <td>4b500379c751b7c276c2b2c1db797d47f3a2c7a1b564e2...</td>\n",
       "      <td>I Love You Baby</td>\n",
       "      <td>1</td>\n",
       "      <td>857</td>\n",
       "    </tr>\n",
       "    <tr>\n",
       "      <th>645</th>\n",
       "      <td>de73c4a4aaea23a349b5ce112ea2583043f48ab8ee0edc...</td>\n",
       "      <td>I Love You Baby</td>\n",
       "      <td>1</td>\n",
       "      <td>857</td>\n",
       "    </tr>\n",
       "    <tr>\n",
       "      <th>647</th>\n",
       "      <td>81c8e36de488549443aaa24148aa41b8acde24064e88b5...</td>\n",
       "      <td>I Love You Baby</td>\n",
       "      <td>1</td>\n",
       "      <td>857</td>\n",
       "    </tr>\n",
       "    <tr>\n",
       "      <th>648</th>\n",
       "      <td>7e84bdb32d290a1f3776ac496b2df0cf233819cae4b7a7...</td>\n",
       "      <td>I Love You Baby</td>\n",
       "      <td>1</td>\n",
       "      <td>857</td>\n",
       "    </tr>\n",
       "    <tr>\n",
       "      <th>649</th>\n",
       "      <td>92941944553b3a2fb8422c6835965f75f739549b3abcd5...</td>\n",
       "      <td>I Love You Baby</td>\n",
       "      <td>1</td>\n",
       "      <td>857</td>\n",
       "    </tr>\n",
       "    <tr>\n",
       "      <th>...</th>\n",
       "      <td>...</td>\n",
       "      <td>...</td>\n",
       "      <td>...</td>\n",
       "      <td>...</td>\n",
       "    </tr>\n",
       "    <tr>\n",
       "      <th>2658</th>\n",
       "      <td>f92d17295d86b1672c796b91f2bbb1f350aea16f1a4024...</td>\n",
       "      <td>Opapatika</td>\n",
       "      <td>1</td>\n",
       "      <td>1</td>\n",
       "    </tr>\n",
       "    <tr>\n",
       "      <th>2659</th>\n",
       "      <td>c8d0e7451cdd40e861de1ea81c37d17e4a8e421990d1e2...</td>\n",
       "      <td>Akibat Hamil Muda</td>\n",
       "      <td>1</td>\n",
       "      <td>1</td>\n",
       "    </tr>\n",
       "    <tr>\n",
       "      <th>2016</th>\n",
       "      <td>3a1b787a8dd1f1978df7263065d61ef2efb61c001bcef4...</td>\n",
       "      <td>This Is Cinta</td>\n",
       "      <td>1</td>\n",
       "      <td>1</td>\n",
       "    </tr>\n",
       "    <tr>\n",
       "      <th>2017</th>\n",
       "      <td>78c9bec4bb38edb3c2e9a4b22b80c1767f92538d343ce9...</td>\n",
       "      <td>Foxcatcher</td>\n",
       "      <td>1</td>\n",
       "      <td>1</td>\n",
       "    </tr>\n",
       "    <tr>\n",
       "      <th>2831</th>\n",
       "      <td>6d9923f68eacf83a29d4797a1103c82bbf6b9b13e87152...</td>\n",
       "      <td>I Know What You Did on Facebook</td>\n",
       "      <td>1</td>\n",
       "      <td>1</td>\n",
       "    </tr>\n",
       "  </tbody>\n",
       "</table>\n",
       "<p>2832 rows × 4 columns</p>\n",
       "</div>"
      ],
      "text/plain": [
       "                                        hash_watcher_id  \\\n",
       "782   4b500379c751b7c276c2b2c1db797d47f3a2c7a1b564e2...   \n",
       "645   de73c4a4aaea23a349b5ce112ea2583043f48ab8ee0edc...   \n",
       "647   81c8e36de488549443aaa24148aa41b8acde24064e88b5...   \n",
       "648   7e84bdb32d290a1f3776ac496b2df0cf233819cae4b7a7...   \n",
       "649   92941944553b3a2fb8422c6835965f75f739549b3abcd5...   \n",
       "...                                                 ...   \n",
       "2658  f92d17295d86b1672c796b91f2bbb1f350aea16f1a4024...   \n",
       "2659  c8d0e7451cdd40e861de1ea81c37d17e4a8e421990d1e2...   \n",
       "2016  3a1b787a8dd1f1978df7263065d61ef2efb61c001bcef4...   \n",
       "2017  78c9bec4bb38edb3c2e9a4b22b80c1767f92538d343ce9...   \n",
       "2831  6d9923f68eacf83a29d4797a1103c82bbf6b9b13e87152...   \n",
       "\n",
       "                           film_title  completed  total_plays  \n",
       "782                   I Love You Baby          1          857  \n",
       "645                   I Love You Baby          1          857  \n",
       "647                   I Love You Baby          1          857  \n",
       "648                   I Love You Baby          1          857  \n",
       "649                   I Love You Baby          1          857  \n",
       "...                               ...        ...          ...  \n",
       "2658                        Opapatika          1            1  \n",
       "2659                Akibat Hamil Muda          1            1  \n",
       "2016                    This Is Cinta          1            1  \n",
       "2017                       Foxcatcher          1            1  \n",
       "2831  I Know What You Did on Facebook          1            1  \n",
       "\n",
       "[2832 rows x 4 columns]"
      ]
     },
     "execution_count": 160,
     "metadata": {},
     "output_type": "execute_result"
    }
   ],
   "source": [
    "df = user_and_film.merge(total_plays, left_on ='film_title', right_on='film_title').sort_values(by='total_plays', ascending=False)\n",
    "df"
   ]
  },
  {
   "cell_type": "markdown",
   "id": "96121bc0",
   "metadata": {},
   "source": [
    "#### Filter data to only popular film_title, to ensure statistical significance"
   ]
  },
  {
   "cell_type": "code",
   "execution_count": 12,
   "id": "1e0d8eec",
   "metadata": {},
   "outputs": [
    {
     "data": {
      "text/html": [
       "<div>\n",
       "<style scoped>\n",
       "    .dataframe tbody tr th:only-of-type {\n",
       "        vertical-align: middle;\n",
       "    }\n",
       "\n",
       "    .dataframe tbody tr th {\n",
       "        vertical-align: top;\n",
       "    }\n",
       "\n",
       "    .dataframe thead th {\n",
       "        text-align: right;\n",
       "    }\n",
       "</style>\n",
       "<table border=\"1\" class=\"dataframe\">\n",
       "  <thead>\n",
       "    <tr style=\"text-align: right;\">\n",
       "      <th></th>\n",
       "      <th>total_plays</th>\n",
       "    </tr>\n",
       "  </thead>\n",
       "  <tbody>\n",
       "    <tr>\n",
       "      <th>count</th>\n",
       "      <td>2832.000000</td>\n",
       "    </tr>\n",
       "    <tr>\n",
       "      <th>mean</th>\n",
       "      <td>283.641243</td>\n",
       "    </tr>\n",
       "    <tr>\n",
       "      <th>std</th>\n",
       "      <td>378.795255</td>\n",
       "    </tr>\n",
       "    <tr>\n",
       "      <th>min</th>\n",
       "      <td>1.000000</td>\n",
       "    </tr>\n",
       "    <tr>\n",
       "      <th>25%</th>\n",
       "      <td>14.000000</td>\n",
       "    </tr>\n",
       "    <tr>\n",
       "      <th>50%</th>\n",
       "      <td>53.000000</td>\n",
       "    </tr>\n",
       "    <tr>\n",
       "      <th>75%</th>\n",
       "      <td>857.000000</td>\n",
       "    </tr>\n",
       "    <tr>\n",
       "      <th>max</th>\n",
       "      <td>857.000000</td>\n",
       "    </tr>\n",
       "  </tbody>\n",
       "</table>\n",
       "</div>"
      ],
      "text/plain": [
       "       total_plays\n",
       "count  2832.000000\n",
       "mean    283.641243\n",
       "std     378.795255\n",
       "min       1.000000\n",
       "25%      14.000000\n",
       "50%      53.000000\n",
       "75%     857.000000\n",
       "max     857.000000"
      ]
     },
     "execution_count": 12,
     "metadata": {},
     "output_type": "execute_result"
    }
   ],
   "source": [
    "df.describe()"
   ]
  },
  {
   "cell_type": "code",
   "execution_count": 161,
   "id": "9b229dcf",
   "metadata": {},
   "outputs": [],
   "source": [
    "df = df[df['total_plays'] >= 10]"
   ]
  },
  {
   "cell_type": "markdown",
   "id": "5908da70",
   "metadata": {},
   "source": [
    "### Reshape the data using pivot table function"
   ]
  },
  {
   "cell_type": "code",
   "execution_count": 162,
   "id": "0f0673f8",
   "metadata": {},
   "outputs": [],
   "source": [
    "df_sparse = df.reset_index().pivot_table(index='film_title', columns='hash_watcher_id', values = 'completed').fillna(0)"
   ]
  },
  {
   "cell_type": "markdown",
   "id": "2e96c054",
   "metadata": {},
   "source": [
    "### Transform Sparse matrix to Compressed Sparse Row (CSR)"
   ]
  },
  {
   "cell_type": "markdown",
   "id": "89f2a287",
   "metadata": {},
   "source": [
    "for refference about sparse matrix: https://machinelearningmastery.com/sparse-matrices-for-machine-learning/"
   ]
  },
  {
   "cell_type": "code",
   "execution_count": 163,
   "id": "7f3d4c63",
   "metadata": {},
   "outputs": [],
   "source": [
    "from scipy.sparse import csr_matrix"
   ]
  },
  {
   "cell_type": "code",
   "execution_count": 164,
   "id": "86465292",
   "metadata": {},
   "outputs": [],
   "source": [
    "df_CSR = csr_matrix(df_sparse)"
   ]
  },
  {
   "cell_type": "markdown",
   "id": "db313faf",
   "metadata": {},
   "source": [
    "# Machine Learning Model"
   ]
  },
  {
   "cell_type": "markdown",
   "id": "8917f553",
   "metadata": {},
   "source": [
    "https://scikit-learn.org/stable/modules/neighbors.html"
   ]
  },
  {
   "cell_type": "markdown",
   "id": "fb2d8c11",
   "metadata": {},
   "source": [
    "###### Using cosine  to measure the similarity between film_title based on cosine value (1: similar and 0: not similar). The cosine similarity is advantageous because even if the two similar vectors or documents are far apart by the Euclidean distance (due to the size of the document), chances are they may still be oriented closer together. The smaller the angle, higher the cosine similarity. So if there is a film_title watch by us and the other similar user, the other film watched by the similar will be a recommendation for us. its happend cause the dot product (numerator) in cosine equuation shared the same features (users in our case) so the cosine value will be larger. "
   ]
  },
  {
   "cell_type": "markdown",
   "id": "b9a08fa8",
   "metadata": {},
   "source": [
    "here is the explanation of cosine similarity in 3d dimension (3 features): https://www.machinelearningplus.com/nlp/cosine-similarity/"
   ]
  },
  {
   "cell_type": "markdown",
   "id": "6a7ce2db",
   "metadata": {},
   "source": [
    "or this is the example of the content based recommendation method (feature: informations of item instead of users) using cosine similarity: https://towardsdatascience.com/using-cosine-similarity-to-build-a-movie-recommendation-system-ae7f20842599"
   ]
  },
  {
   "cell_type": "code",
   "execution_count": 165,
   "id": "9bf2705b",
   "metadata": {},
   "outputs": [
    {
     "data": {
      "text/plain": [
       "NearestNeighbors(algorithm='brute', metric='cosine')"
      ]
     },
     "execution_count": 165,
     "metadata": {},
     "output_type": "execute_result"
    }
   ],
   "source": [
    "from sklearn.neighbors import NearestNeighbors\n",
    "\n",
    "model_knn = NearestNeighbors(metric='cosine', algorithm = 'brute')\n",
    "model_knn.fit(df_CSR)"
   ]
  },
  {
   "cell_type": "markdown",
   "id": "29a7cb0c",
   "metadata": {},
   "source": [
    "## The Recommendation System"
   ]
  },
  {
   "cell_type": "code",
   "execution_count": 178,
   "id": "dd9fd560",
   "metadata": {},
   "outputs": [
    {
     "name": "stdout",
     "output_type": "stream",
     "text": [
      "Recommendations for The Secret Hotel: \n",
      "1: W – Two Worlds, with distance of 0.9087129070824723:\n",
      "2: Kill Me, Heal Me, with distance of 0.9087129070824723:\n",
      "3: The Good Wife, with distance of 0.9578924039466741:\n",
      "4: The Cursed, with distance of 1.0:\n",
      "5: The Gang Doctor, with distance of 1.0:\n"
     ]
    }
   ],
   "source": [
    "query_index = np.random.choice(df_sparse.shape[0])\n",
    "distances, indices = model_knn.kneighbors(df_sparse.iloc[query_index, :].values.reshape(1, -1), n_neighbors = 6)\n",
    "\n",
    "for i in range(0, len(distances.flatten())):\n",
    "    if i == 0:\n",
    "        print('Recommendations for {0}: '.format(df_sparse.index[query_index]))\n",
    "    else:\n",
    "        print('{0}: {1}, with distance of {2}:'.format(i, df_sparse.index[indices.flatten()[i]], distances.flatten()[i]))"
   ]
  },
  {
   "cell_type": "code",
   "execution_count": null,
   "id": "d1605bef",
   "metadata": {},
   "outputs": [],
   "source": []
  }
 ],
 "metadata": {
  "kernelspec": {
   "display_name": "Python 3",
   "language": "python",
   "name": "python3"
  },
  "language_info": {
   "codemirror_mode": {
    "name": "ipython",
    "version": 3
   },
   "file_extension": ".py",
   "mimetype": "text/x-python",
   "name": "python",
   "nbconvert_exporter": "python",
   "pygments_lexer": "ipython3",
   "version": "3.7.9"
  }
 },
 "nbformat": 4,
 "nbformat_minor": 5
}
